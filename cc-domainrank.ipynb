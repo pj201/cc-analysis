{
 "cells": [
  {
   "cell_type": "code",
   "execution_count": 1,
   "metadata": {
    "collapsed": true
   },
   "outputs": [],
   "source": [
    "# Compute degreeRatio and PageRank for hosts/domains from CommonCrawl dataset\n",
    "# PJ 29/8/2017\n",
    "#\n",
    "# Launch this notebook with the following command to enable graphFrames:\n",
    "#  %pyspark --packages graphframes:graphframes:0.5.0-spark2.1-s_2.11\n",
    "# and add the following two lines to your ~/.bashrc:\n",
    "#  export PYSPARK_DRIVER_PYTHON=jupyter\n",
    "#  export PYSPARK_DRIVER_PYTHON_OPTS='notebook'\n",
    "#\n",
    "# Pre-requisite to running this notebook - construct a graph using cc-pyspark example code as follows:\n",
    "#  git clone https://github.com/commoncrawl/cc-pyspark.git\n",
    "#  cd cc-pyspark\n",
    "#  spark-submit ./wat_extract_links.py --num_output_partitions 1 --log_level WARN ./input/test_wat.txt links\n",
    "#  spark-submit ./hostlinks_to_graph.py spark-warehouse/links graph"
   ]
  },
  {
   "cell_type": "code",
   "execution_count": 2,
   "metadata": {
    "collapsed": true
   },
   "outputs": [],
   "source": [
    "from graphframes import *\n",
    "from pyspark.sql.functions import *\n",
    "import matplotlib.pyplot as plt"
   ]
  },
  {
   "cell_type": "code",
   "execution_count": 3,
   "metadata": {
    "collapsed": true
   },
   "outputs": [],
   "source": [
    "# Read in vertices and edges created by above cc-pyspark jobs\n",
    "df_v = spark.read.parquet(\"../cc-pyspark/spark-warehouse/graph_vertices\")\n",
    "df_e = spark.read.parquet(\"../cc-pyspark/spark-warehouse/graph_edges\")\n",
    "#df_v.show()"
   ]
  },
  {
   "cell_type": "code",
   "execution_count": null,
   "metadata": {
    "collapsed": true
   },
   "outputs": [],
   "source": [
    "# Save links as CSV (e.g. for import into Gephi)\n",
    "#df = sqlContext.read.parquet(\"../cc-pyspark/spark-warehouse/links\")\n",
    "#str(df)\n",
    "#f = open('web-graph-edges.csv','w')\n",
    "#for row in df.collect(): f.write(row.s + \",\" + row.t)\n",
    "#f.close()"
   ]
  },
  {
   "cell_type": "code",
   "execution_count": 4,
   "metadata": {
    "collapsed": true
   },
   "outputs": [],
   "source": [
    "# Rename s and t in edges to src and dst for GraphFrame\n",
    "df_e2 = df_e.select(col(\"s\").alias(\"src\"), col(\"t\").alias(\"dst\"))"
   ]
  },
  {
   "cell_type": "code",
   "execution_count": 5,
   "metadata": {
    "collapsed": true
   },
   "outputs": [],
   "source": [
    "# Make a GraphFrame\n",
    "g = GraphFrame(df_v, df_e2)"
   ]
  },
  {
   "cell_type": "code",
   "execution_count": 6,
   "metadata": {},
   "outputs": [
    {
     "name": "stdout",
     "output_type": "stream",
     "text": [
      "+------+--------+\n",
      "|    id|inDegree|\n",
      "+------+--------+\n",
      "| 77159|   15769|\n",
      "|144325|   14505|\n",
      "| 87626|    7341|\n",
      "|159004|    6510|\n",
      "| 87654|    5325|\n",
      "+------+--------+\n",
      "only showing top 5 rows\n",
      "\n"
     ]
    }
   ],
   "source": [
    "# Show top in-degrees\n",
    "g.inDegrees.orderBy(\"inDegree\", ascending=False).show(5)"
   ]
  },
  {
   "cell_type": "code",
   "execution_count": 7,
   "metadata": {},
   "outputs": [
    {
     "name": "stdout",
     "output_type": "stream",
     "text": [
      "+--------+------+\n",
      "|inDegree| count|\n",
      "+--------+------+\n",
      "|       1|199751|\n",
      "|       2| 16031|\n",
      "|       3|  5043|\n",
      "|       4|  2395|\n",
      "|       5|  1222|\n",
      "+--------+------+\n",
      "only showing top 5 rows\n",
      "\n"
     ]
    },
    {
     "data": {
      "text/plain": [
       "234"
      ]
     },
     "execution_count": 7,
     "metadata": {},
     "output_type": "execute_result"
    }
   ],
   "source": [
    "# Show summary of in-degrees by node count\n",
    "ind = g.inDegrees.groupBy(\"inDegree\").count().orderBy(\"count\", ascending=False)\n",
    "ind.show(5)\n",
    "ind.count()"
   ]
  },
  {
   "cell_type": "code",
   "execution_count": 8,
   "metadata": {
    "collapsed": true
   },
   "outputs": [],
   "source": [
    "# Display scatter plot of in degrees\n",
    "# TODO: Figure out why this is crashing the kernel!\n",
    "#plt.scatter(ind.inDegree, ind.count, s=1.0)\n",
    "#plt.show()"
   ]
  },
  {
   "cell_type": "code",
   "execution_count": 33,
   "metadata": {},
   "outputs": [
    {
     "name": "stdout",
     "output_type": "stream",
     "text": [
      "+------+-----------+\n",
      "|    id|degreeRatio|\n",
      "+------+-----------+\n",
      "| 94974|      879.0|\n",
      "| 87626|      734.1|\n",
      "| 81213|      502.0|\n",
      "|117487|      466.0|\n",
      "|159004|      434.0|\n",
      "+------+-----------+\n",
      "only showing top 5 rows\n",
      "\n"
     ]
    }
   ],
   "source": [
    "# Compute degree ratio for each node (inDeg/outDeg)\n",
    "inDeg=g.inDegrees\n",
    "outDeg=g.outDegrees\n",
    "degreeRatio = inDeg.join(outDeg, inDeg.id == outDeg.id, how='outer') \\\n",
    "                   .drop(outDeg.id) \\\n",
    "                   .selectExpr(\"id\", \"double(inDegree)/double(outDegree) as degreeRatio\") \\\n",
    "                   .cache()\n",
    "degreeRatio.orderBy(\"degreeRatio\",ascending=False).show(5)"
   ]
  },
  {
   "cell_type": "code",
   "execution_count": 34,
   "metadata": {},
   "outputs": [
    {
     "name": "stdout",
     "output_type": "stream",
     "text": [
      "+------+------------------+--------------------+\n",
      "|    id|       degreeRatio|                name|\n",
      "+------+------------------+--------------------+\n",
      "| 94974|             879.0|       com.instagram|\n",
      "| 87626|             734.1|     com.google.plus|\n",
      "| 81213|             502.0|com.feedburner.feeds|\n",
      "|117487|             466.0|          com.paypal|\n",
      "|159004|             434.0|         com.youtube|\n",
      "|134829|             209.5|     com.stumbleupon|\n",
      "| 87566|             162.3|          com.google|\n",
      "| 19624|101.33333333333333|    com.apple.itunes|\n",
      "|119759|              98.8|       com.pinterest|\n",
      "| 87625|              81.0|     com.google.play|\n",
      "+------+------------------+--------------------+\n",
      "only showing top 10 rows\n",
      "\n"
     ]
    }
   ],
   "source": [
    "# Join back to the vertices dataframe to create a hubs dataframe\n",
    "hubs = degreeRatio.join(df_v, degreeRatio.id == df_v.id, how='outer') \\\n",
    "                  .drop(df_v.id) \\\n",
    "                  #.filter(\"degreeRatio > 50\")\n",
    "hubs.orderBy(\"degreeRatio\", ascending=False).show(10)"
   ]
  },
  {
   "cell_type": "code",
   "execution_count": 35,
   "metadata": {},
   "outputs": [
    {
     "name": "stdout",
     "output_type": "stream",
     "text": [
      "+------+------------------+\n",
      "|    id|          pagerank|\n",
      "+------+------------------+\n",
      "| 77159|1660.5479246392313|\n",
      "|144325|1481.6075968768785|\n",
      "| 87626| 750.6779587146389|\n",
      "| 87654| 642.9487697576785|\n",
      "|159004|  605.087697326464|\n",
      "+------+------------------+\n",
      "only showing top 5 rows\n",
      "\n"
     ]
    }
   ],
   "source": [
    "# Compute page-rank on the GraphFrame and display top results\n",
    "pr = g.pageRank(resetProbability=0.01, maxIter=20)\n",
    "pr_v = pr.vertices.select(\"id\", \"pagerank\")\n",
    "pr_v.orderBy(\"pagerank\",ascending=False).show(5)"
   ]
  },
  {
   "cell_type": "code",
   "execution_count": 36,
   "metadata": {},
   "outputs": [
    {
     "name": "stdout",
     "output_type": "stream",
     "text": [
      "+------+------------------+--------------------+------------------+\n",
      "|    id|       degreeRatio|                name|          pagerank|\n",
      "+------+------------------+--------------------+------------------+\n",
      "| 77159|              null|        com.facebook|1660.5479246392313|\n",
      "|144325|              null|         com.twitter|1481.6075968768785|\n",
      "| 87626|             734.1|     com.google.plus| 750.6779587146389|\n",
      "| 87654|              null|com.googleapis.fonts| 642.9487697576785|\n",
      "|159004|             434.0|         com.youtube|  605.087697326464|\n",
      "| 94974|             879.0|       com.instagram|357.85294188397035|\n",
      "| 87566|             162.3|          com.google| 335.5888404982098|\n",
      "|119759|              98.8|       com.pinterest|317.21378081830125|\n",
      "|219462|              null|            org.gmpg|  227.710666601869|\n",
      "|102302|              null|        com.linkedin| 213.5927093247866|\n",
      "| 87612|              null|     com.google.maps|159.77992983987357|\n",
      "| 25510|              null|         com.blogger|149.76051456859193|\n",
      "|241336|              null|        ru.yandex.mc|147.62508774180097|\n",
      "| 88671|              null|     com.gstatic.ssl|125.64347802599185|\n",
      "| 87638|              null|  com.google.support|123.67410671837037|\n",
      "| 87625|              81.0|     com.google.play|123.40886380239482|\n",
      "| 25316|              null|com.blogblog.reso...|121.55622806012579|\n",
      "|148166|              null|              com.vk|109.25546951062431|\n",
      "| 59313|              null|com.bootstrapcdn....|108.94982243441869|\n",
      "| 19624|101.33333333333333|    com.apple.itunes|   96.600764374501|\n",
      "|224921|              null|          org.schema| 92.64758110030934|\n",
      "|128436|              null|com.scorecardrese...| 88.16943611556896|\n",
      "| 69809|               1.0|        com.dedocz.m| 87.58864073154702|\n",
      "| 69808|               1.0|          com.dedocz| 87.58864073154702|\n",
      "| 87749|              null|com.googleusercon...| 85.97247366142271|\n",
      "+------+------------------+--------------------+------------------+\n",
      "only showing top 25 rows\n",
      "\n"
     ]
    }
   ],
   "source": [
    "# Join back to the vertices DataFrame to extend our hubs DataFrame\n",
    "hubs2 = hubs.join(pr_v, hubs.id == pr_v.id, how='outer') \\\n",
    "                  .drop(pr_v.id) \\\n",
    "                  #.filter(\"pagerank > 2\")\n",
    "hubs2.orderBy(\"pagerank\", ascending=False).show(25)"
   ]
  },
  {
   "cell_type": "code",
   "execution_count": 2,
   "metadata": {
    "collapsed": true
   },
   "outputs": [],
   "source": [
    "# Note that many sites have 'null' degree ratio - this is because CommonCrawl has no out-going links from these\n",
    "# sites since their 'robots.txt' rules prevent them from being crawled. Hence their outDeg=0."
   ]
  },
  {
   "cell_type": "code",
   "execution_count": null,
   "metadata": {
    "collapsed": true
   },
   "outputs": [],
   "source": [
    "import networkx as nx\n",
    "import pandas as pd\n",
    "import matplotlib.pyplot as plt\n",
    "edges = df_e2.toPandas()\n",
    "nxg=nx.from_pandas_dataframe(edges,'src','dst')\n",
    "pos = nx.spring_layout(nxg)\n",
    "nx.draw_networkx_nodes(nxg, pos, cmap=plt.get_cmap('jet'), node_color = values)\n",
    "nx.draw_networkx_edges(nxg, pos, edgelist=red_edges, edge_color='r', arrows=True)\n",
    "nx.draw_networkx_edges(nxg, pos, edgelist=black_edges, arrows=False)\n",
    "plt.show()"
   ]
  },
  {
   "cell_type": "code",
   "execution_count": null,
   "metadata": {
    "collapsed": true
   },
   "outputs": [],
   "source": []
  }
 ],
 "metadata": {
  "kernelspec": {
   "display_name": "Python 3",
   "language": "python",
   "name": "python3"
  },
  "language_info": {
   "codemirror_mode": {
    "name": "ipython",
    "version": 3
   },
   "file_extension": ".py",
   "mimetype": "text/x-python",
   "name": "python",
   "nbconvert_exporter": "python",
   "pygments_lexer": "ipython3",
   "version": "3.6.1"
  }
 },
 "nbformat": 4,
 "nbformat_minor": 2
}
