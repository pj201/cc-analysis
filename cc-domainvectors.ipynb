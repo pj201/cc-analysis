{
 "cells": [
  {
   "cell_type": "code",
   "execution_count": 1,
   "metadata": {
    "collapsed": true
   },
   "outputs": [],
   "source": [
    "# Compute vector embeddings for hosts/domains from CommonCrawl dataset\n",
    "# PJ 29/8/2017\n",
    "#\n",
    "# Launch this notebook with the following command to enable graphFrames:\n",
    "#  %pyspark --packages graphframes:graphframes:0.5.0-spark2.1-s_2.11\n",
    "# and add the following two lines to your ~/.bashrc:\n",
    "#  export PYSPARK_DRIVER_PYTHON=jupyter\n",
    "#  export PYSPARK_DRIVER_PYTHON_OPTS='notebook'\n",
    "#\n",
    "# Pre-requisite to running this notebook - construct a graph using cc-pyspark example code as follows:\n",
    "#  git clone https://github.com/commoncrawl/cc-pyspark.git\n",
    "#  cd cc-pyspark\n",
    "#  spark-submit ./wat_extract_links.py --num_output_partitions 1 --log_level WARN ./input/test_wat.txt links\n",
    "#  spark-submit ./hostlinks_to_graph.py spark-warehouse/links graph"
   ]
  },
  {
   "cell_type": "code",
   "execution_count": 3,
   "metadata": {
    "collapsed": true
   },
   "outputs": [],
   "source": [
    "from graphframes import *\n",
    "from pyspark.sql.functions import *\n",
    "import matplotlib.pyplot as plt"
   ]
  },
  {
   "cell_type": "code",
   "execution_count": 4,
   "metadata": {},
   "outputs": [],
   "source": [
    "# Read in vertices and edges created by above cc-pyspark jobs, and create a GraphFrame\n",
    "df_v = spark.read.parquet(\"../cc-pyspark/spark-warehouse/graph_vertices\")\n",
    "df_e = spark.read.parquet(\"../cc-pyspark/spark-warehouse/graph_edges\")\n",
    "df_e2 = df_e.select(col(\"s\").alias(\"src\"), col(\"t\").alias(\"dst\"))\n",
    "g = GraphFrame(df_v, df_e2)"
   ]
  },
  {
   "cell_type": "code",
   "execution_count": 5,
   "metadata": {
    "collapsed": true
   },
   "outputs": [],
   "source": [
    "# TODO: Generate context dataset from random (or biased) walks on the graph\n",
    "# TODO: Create vector embeddings using word2vec\n",
    "# TODO: Visualize with t-SNE\n",
    "# TODO: Scale up on AWS!"
   ]
  },
  {
   "cell_type": "code",
   "execution_count": null,
   "metadata": {
    "collapsed": true
   },
   "outputs": [],
   "source": []
  }
 ],
 "metadata": {
  "kernelspec": {
   "display_name": "Python 2",
   "language": "python",
   "name": "python2"
  },
  "language_info": {
   "codemirror_mode": {
    "name": "ipython",
    "version": 2
   },
   "file_extension": ".py",
   "mimetype": "text/x-python",
   "name": "python",
   "nbconvert_exporter": "python",
   "pygments_lexer": "ipython2",
   "version": "2.7.13"
  }
 },
 "nbformat": 4,
 "nbformat_minor": 2
}
