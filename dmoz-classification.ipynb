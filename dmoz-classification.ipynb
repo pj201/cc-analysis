{
 "cells": [
  {
   "cell_type": "code",
   "execution_count": 60,
   "metadata": {
    "collapsed": true
   },
   "outputs": [],
   "source": [
    "# Import the DMOZ domain category dataset\n",
    "# (downloaded from https://dataverse.harvard.edu/dataset.xhtml?persistentId=doi:10.7910/DVN/OMV93V)\n",
    "import csv\n",
    "with open('../dmoz-data/dmoz_domain_category.csv', 'r') as f:\n",
    "  next(f) # Skip the header line\n",
    "  reader = csv.reader(f)\n",
    "  raw_categories = list(reader)"
   ]
  },
  {
   "cell_type": "code",
   "execution_count": 3,
   "metadata": {},
   "outputs": [
    {
     "data": {
      "text/plain": [
       "['www.232analyzer.com', 'Top/Computers/Hardware/Test_Equipment/Analyzers']"
      ]
     },
     "execution_count": 3,
     "metadata": {},
     "output_type": "execute_result"
    }
   ],
   "source": [
    "# Take a look at one record\n",
    "raw_categories[1]"
   ]
  },
  {
   "cell_type": "code",
   "execution_count": 4,
   "metadata": {},
   "outputs": [],
   "source": [
    "# Make a dictionary of short domains (without www.) to top-level category label, as per this page:\n",
    "# http://dmoztools.net\n",
    "labels={}\n",
    "prefix=\"www.\"\n",
    "for row in raw_categories:\n",
    "    fulldomain = row[0]\n",
    "    shortdomain = fulldomain[len(prefix):] if fulldomain.startswith(prefix) else fulldomain\n",
    "    label = row[1].split(\"/\")[1].split(\"|\")[0]\n",
    "    labels[shortdomain]=label  \n",
    "    #print(shortdomain + \" \" + label)"
   ]
  },
  {
   "cell_type": "code",
   "execution_count": 5,
   "metadata": {},
   "outputs": [
    {
     "data": {
      "text/plain": [
       "'Computers'"
      ]
     },
     "execution_count": 5,
     "metadata": {},
     "output_type": "execute_result"
    }
   ],
   "source": [
    "# Take a look at the category for one domain from our dictionary\n",
    "labels['232analyzer.com']"
   ]
  },
  {
   "cell_type": "code",
   "execution_count": 6,
   "metadata": {},
   "outputs": [
    {
     "data": {
      "text/plain": [
       "720"
      ]
     },
     "execution_count": 6,
     "metadata": {},
     "output_type": "execute_result"
    }
   ],
   "source": [
    "# Import JSON embeddings dictionary from Tom E, filtering for extra quotes using:\n",
    "# cat edges-1000-lookup.json | sed -e 's/\\\\\"//g' > edges-1000-lookup2.json \n",
    "import json \n",
    "js=open('../cc-embeddings/edges-1000-lookup2.json') \n",
    "ids=json.load(js) \n",
    "ids['cmo.com']"
   ]
  },
  {
   "cell_type": "code",
   "execution_count": 61,
   "metadata": {},
   "outputs": [
    {
     "data": {
      "text/plain": [
       "382"
      ]
     },
     "execution_count": 61,
     "metadata": {},
     "output_type": "execute_result"
    }
   ],
   "source": [
    "# Find the domains that are present in both DMOZ and Tom's Embeddings\n",
    "overlap=labels.keys() & ids.keys()\n",
    "len(overlap)"
   ]
  },
  {
   "cell_type": "code",
   "execution_count": 28,
   "metadata": {},
   "outputs": [],
   "source": [
    "# Create another dictionary with keys and values swapped\n",
    "domains = dict((v,k) for k,v in ids.items())"
   ]
  },
  {
   "cell_type": "code",
   "execution_count": 11,
   "metadata": {},
   "outputs": [
    {
     "data": {
      "text/plain": [
       "Counter({'Arts': 66715,\n",
       "         'Business': 148142,\n",
       "         'Computers': 45193,\n",
       "         'Games': 10246,\n",
       "         'Health': 24218,\n",
       "         'Home': 6951,\n",
       "         'News': 3710,\n",
       "         'Recreation': 46095,\n",
       "         'Reference': 21663,\n",
       "         'Regional': 642158,\n",
       "         'Science': 28135,\n",
       "         'Shopping': 54062,\n",
       "         'Society': 82072,\n",
       "         'Sports': 34885,\n",
       "         'World': 1273938})"
      ]
     },
     "execution_count": 11,
     "metadata": {},
     "output_type": "execute_result"
    }
   ],
   "source": [
    "# Summarize categories in the DMOZ data\n",
    "from collections import Counter\n",
    "Counter(labels.values())"
   ]
  },
  {
   "cell_type": "code",
   "execution_count": 12,
   "metadata": {
    "collapsed": true
   },
   "outputs": [],
   "source": [
    "# Plot histogram of top-level DMOZ categories - not working\n",
    "#import matplotlib.pyplot as plt\n",
    "#plt.hist(labels.values())\n",
    "#plt.show()"
   ]
  },
  {
   "cell_type": "code",
   "execution_count": 22,
   "metadata": {},
   "outputs": [
    {
     "data": {
      "text/plain": [
       "311"
      ]
     },
     "execution_count": 22,
     "metadata": {},
     "output_type": "execute_result"
    }
   ],
   "source": [
    "# Load Tom E's embedding vector IDs\n",
    "import numpy as np\n",
    "embs=open(\"../cc-embeddings/edges-1000-snap.emb\")\n",
    "next(embs) # skip header line\n",
    "vec_ids = np.loadtxt(embs, delimiter=' ', usecols=0, dtype=int, unpack=False)\n",
    "embs.close()\n",
    "vec_ids[3]"
   ]
  },
  {
   "cell_type": "code",
   "execution_count": 62,
   "metadata": {},
   "outputs": [
    {
     "data": {
      "text/plain": [
       "array([  1.38675000e-01,  -3.08216000e-01,   9.77799000e-01,\n",
       "        -5.14710000e-01,  -2.53251000e-01,  -1.03932000e-01,\n",
       "         6.19299000e-01,  -8.66894000e-01,  -1.98394000e-01,\n",
       "        -6.51082000e-01,  -1.49361000e-01,  -3.43352000e-01,\n",
       "        -5.41385000e-01,   1.03663000e+00,   8.17124000e-01,\n",
       "         1.39814000e-02,  -2.90030000e-01,   1.24302000e+00,\n",
       "         5.29870000e-01,   5.79753000e-01,   6.57062000e-02,\n",
       "        -1.23863000e+00,   1.35813000e+00,  -3.60972000e-01,\n",
       "        -2.42486000e-01,   1.67638000e-01,   9.91996000e-01,\n",
       "         1.41447000e-01,  -4.87832000e-01,   2.14026000e-01,\n",
       "         1.44295000e+00,   4.30515000e-01,  -6.37256000e-01,\n",
       "         2.72207000e-01,   3.14449000e-01,  -1.54546000e-01,\n",
       "        -1.01998000e+00,   3.43388000e-01,  -6.45086000e-02,\n",
       "        -1.02615000e+00,  -5.11630000e-01,   5.87549000e-01,\n",
       "        -8.73898000e-04,   5.80964000e-02,   7.47816000e-02,\n",
       "         5.77048000e-02,   3.30381000e-01,  -1.17853000e-02,\n",
       "         1.76377000e-01,  -7.31775000e-01,   4.43158000e-01,\n",
       "        -5.69597000e-01,   6.61354000e-01,  -4.30660000e-01,\n",
       "         1.09362000e+00,   7.94780000e-01,   1.81941000e-01,\n",
       "        -4.16596000e-01,   8.80137000e-01,   1.42605000e+00,\n",
       "        -1.10367000e+00,  -9.20857000e-01,  -2.76859000e-01,\n",
       "         3.96467000e-01,  -7.04423000e-01,   2.15761000e-01,\n",
       "         4.28387000e-01,  -1.61292000e-01,   1.86883000e-01,\n",
       "        -3.29085000e-01,  -3.19466000e-01,   1.02334000e+00,\n",
       "         2.07602000e-01,   2.15688000e-01,  -4.25090000e-02,\n",
       "        -3.47951000e-01,  -2.17198000e-01,   8.46516000e-02,\n",
       "        -2.55313000e-01,   4.26070000e-01,   9.94306000e-01,\n",
       "        -7.91846000e-01,  -3.24059000e-01,   4.47898000e-01,\n",
       "         1.19782000e-01,  -4.44787000e-01,  -3.19306000e-01,\n",
       "         4.13244000e-01,   7.57466000e-01,  -6.71194000e-01,\n",
       "         4.34099000e-01,   2.21199000e-01,   1.73703000e-01,\n",
       "        -2.31450000e-01,  -7.23838000e-01,  -8.66999000e-02,\n",
       "         2.77759000e-01,   8.20458000e-02,   5.28520000e-01])"
      ]
     },
     "execution_count": 62,
     "metadata": {},
     "output_type": "execute_result"
    }
   ],
   "source": [
    "# Load Tom E's 100-dimensional embedding vectors\n",
    "import numpy as np\n",
    "embs=open(\"../cc-embeddings/edges-1000-snap.emb\")\n",
    "next(embs)\n",
    "vec_embs = np.loadtxt(embs, delimiter=' ', usecols=range(1,100), dtype=float, unpack=False)\n",
    "embs.close()\n",
    "vec_embs[3]"
   ]
  },
  {
   "cell_type": "code",
   "execution_count": 36,
   "metadata": {},
   "outputs": [
    {
     "name": "stdout",
     "output_type": "stream",
     "text": [
      "382 382 382\n"
     ]
    }
   ],
   "source": [
    "# Filter embeddings for only those vectors that have entries in the DMOZ dictionary (i.e. ground truth labels)\n",
    "new_vec_ids=[]\n",
    "new_vec_embs=[]\n",
    "ground_truth=[]\n",
    "\n",
    "# Iterate over all the domain IDs for which we have a vector embedding\n",
    "for index,id in enumerate(vec_ids):\n",
    "    \n",
    "    if domains[id] in labels.keys(): # this domain is present in DMOZ so add to new list\n",
    "    \n",
    "        new_vec_ids.append(domains[id])\n",
    "        new_vec_embs.append(vec_embs[index])\n",
    "        ground_truth.append(labels[domains[id]])\n",
    "\n",
    "# Verify lengths of each list\n",
    "print(str(len(new_vec_ids)) + \" \" + str(len(new_vec_embs)) + \" \" + str(len(ground_truth)))"
   ]
  },
  {
   "cell_type": "code",
   "execution_count": 63,
   "metadata": {},
   "outputs": [],
   "source": [
    "# Split into training and test sets\n",
    "from sklearn.cross_validation import train_test_split\n",
    "X_train, X_test, y_train, y_test = train_test_split(new_vec_embs, ground_truth, test_size=0.5, random_state=42)"
   ]
  },
  {
   "cell_type": "code",
   "execution_count": 57,
   "metadata": {},
   "outputs": [
    {
     "data": {
      "text/plain": [
       "Counter({'Arts': 7,\n",
       "         'Business': 12,\n",
       "         'Computers': 78,\n",
       "         'Home': 3,\n",
       "         'News': 13,\n",
       "         'Recreation': 1,\n",
       "         'Reference': 1,\n",
       "         'Regional': 19,\n",
       "         'Science': 2,\n",
       "         'Shopping': 7,\n",
       "         'Society': 9,\n",
       "         'World': 78})"
      ]
     },
     "execution_count": 57,
     "metadata": {},
     "output_type": "execute_result"
    }
   ],
   "source": [
    "# Summarize labels in our test data\n",
    "Counter(y_test)"
   ]
  },
  {
   "cell_type": "code",
   "execution_count": 64,
   "metadata": {},
   "outputs": [
    {
     "data": {
      "text/plain": [
       "RandomForestClassifier(bootstrap=True, class_weight=None, criterion='gini',\n",
       "            max_depth=2, max_features='auto', max_leaf_nodes=None,\n",
       "            min_impurity_split=1e-07, min_samples_leaf=1,\n",
       "            min_samples_split=2, min_weight_fraction_leaf=0.0,\n",
       "            n_estimators=10, n_jobs=1, oob_score=False, random_state=0,\n",
       "            verbose=0, warm_start=False)"
      ]
     },
     "execution_count": 64,
     "metadata": {},
     "output_type": "execute_result"
    }
   ],
   "source": [
    "# Fit classifiers to the training data\n",
    "from sklearn.neighbors import KNeighborsClassifier\n",
    "from sklearn.ensemble import RandomForestClassifier\n",
    "\n",
    "neigh = KNeighborsClassifier(n_neighbors=3, metric='cosine', algorithm='brute')\n",
    "neigh.fit(X_train, y_train) \n",
    "\n",
    "rf = RandomForestClassifier(max_depth=2, random_state=0)\n",
    "rf.fit(X_train, y_train)"
   ]
  },
  {
   "cell_type": "code",
   "execution_count": 65,
   "metadata": {},
   "outputs": [
    {
     "name": "stdout",
     "output_type": "stream",
     "text": [
      "             precision    recall  f1-score   support\n",
      "\n",
      "       Arts       0.00      0.00      0.00         6\n",
      "   Business       0.00      0.00      0.00         9\n",
      "  Computers       0.36      0.46      0.41        67\n",
      "       Home       0.00      0.00      0.00         3\n",
      "       News       0.17      0.09      0.12        11\n",
      " Recreation       0.00      0.00      0.00         1\n",
      "  Reference       0.00      0.00      0.00         0\n",
      "   Regional       0.27      0.21      0.24        14\n",
      "    Science       0.00      0.00      0.00         2\n",
      "   Shopping       0.00      0.00      0.00         6\n",
      "    Society       0.00      0.00      0.00         6\n",
      "      World       0.45      0.42      0.44        66\n",
      "\n",
      "avg / total       0.31      0.33      0.32       191\n",
      "\n",
      "             precision    recall  f1-score   support\n",
      "\n",
      "       Arts       0.00      0.00      0.00         6\n",
      "   Business       0.00      0.00      0.00         9\n",
      "  Computers       0.39      0.67      0.49        67\n",
      "       Home       0.00      0.00      0.00         3\n",
      "       News       0.00      0.00      0.00        11\n",
      " Recreation       0.00      0.00      0.00         1\n",
      "   Regional       0.00      0.00      0.00        14\n",
      "    Science       0.00      0.00      0.00         2\n",
      "   Shopping       0.00      0.00      0.00         6\n",
      "    Society       0.00      0.00      0.00         6\n",
      "      World       0.44      0.50      0.47        66\n",
      "\n",
      "avg / total       0.29      0.41      0.33       191\n",
      "\n"
     ]
    },
    {
     "name": "stderr",
     "output_type": "stream",
     "text": [
      "/Users/paulj/anaconda/lib/python3.6/site-packages/sklearn/metrics/classification.py:1113: UndefinedMetricWarning: Precision and F-score are ill-defined and being set to 0.0 in labels with no predicted samples.\n",
      "  'precision', 'predicted', average, warn_for)\n",
      "/Users/paulj/anaconda/lib/python3.6/site-packages/sklearn/metrics/classification.py:1115: UndefinedMetricWarning: Recall and F-score are ill-defined and being set to 0.0 in labels with no true samples.\n",
      "  'recall', 'true', average, warn_for)\n"
     ]
    }
   ],
   "source": [
    "# Attempt to classify all test points using nearest neighbours\n",
    "from sklearn.metrics import classification_report\n",
    "print(classification_report(y_test, neigh.predict(X_test)))\n",
    "print(classification_report(y_test, rf.predict(X_test)))"
   ]
  },
  {
   "cell_type": "code",
   "execution_count": null,
   "metadata": {
    "collapsed": true
   },
   "outputs": [],
   "source": []
  }
 ],
 "metadata": {
  "kernelspec": {
   "display_name": "Python 3",
   "language": "python",
   "name": "python3"
  },
  "language_info": {
   "codemirror_mode": {
    "name": "ipython",
    "version": 3
   },
   "file_extension": ".py",
   "mimetype": "text/x-python",
   "name": "python",
   "nbconvert_exporter": "python",
   "pygments_lexer": "ipython3",
   "version": "3.6.1"
  }
 },
 "nbformat": 4,
 "nbformat_minor": 2
}
